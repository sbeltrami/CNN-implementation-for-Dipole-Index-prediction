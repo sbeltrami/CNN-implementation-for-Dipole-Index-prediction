{
 "cells": [
  {
   "cell_type": "code",
   "execution_count": null,
   "id": "97133ef2",
   "metadata": {},
   "outputs": [],
   "source": [
    "import os\n",
    "os.environ[\"CUDA_VISIBLE_DEVICES\"] = \"-1\"\n",
    "\n",
    "import tensorflow as tf\n",
    "from tensorflow.keras import layers, models, optimizers, callbacks\n",
    "from tensorflow.keras.layers import Input, Conv2D, BatchNormalization, MaxPooling2D, Dropout, Flatten, Dense, Concatenate\n",
    "from tensorflow.keras.models import Model\n",
    "from sklearn.model_selection import ParameterGrid\n",
    "import xarray as xr\n",
    "import xskillscore as xs\n",
    "import numpy as np\n",
    "import matplotlib.pyplot as plt"
   ]
  },
  {
   "cell_type": "markdown",
   "id": "65357be2",
   "metadata": {},
   "source": [
    "Functions"
   ]
  },
  {
   "cell_type": "code",
   "execution_count": null,
   "id": "4eded816",
   "metadata": {},
   "outputs": [],
   "source": [
    "#Function to rename the coordinates\n",
    "def rename_lat_lon_time(dataset):\n",
    "    #lat/lon\n",
    "    if 'latitude' in dataset.coords or 'longitude' in dataset.coords:\n",
    "        dataset = dataset.rename({\"latitude\": \"lat\", \"longitude\": \"lon\"})\n",
    "    #time\n",
    "    if 'valid_time' in dataset.coords:\n",
    "        dataset = dataset.rename({\"valid_time\": \"time\"})\n",
    "    #indexing_time --> time\n",
    "    if 'indexing_time' in dataset.coords:\n",
    "        dataset = dataset.rename({\"indexing_time\": \"time\"})\n",
    "    #forecast_reference_time --> time\n",
    "    if 'forecast_reference_time' in dataset.coords:\n",
    "        dataset = dataset.rename({\"forecast_reference_time\": \"time\"})\n",
    "\n",
    "    return dataset"
   ]
  },
  {
   "cell_type": "code",
   "execution_count": null,
   "id": "7e3daef1",
   "metadata": {},
   "outputs": [],
   "source": [
    "#Function to select just the hindcast members\n",
    "def hindcast_ensemble(dataset,ensemble_number_hindcast):\n",
    "    dataset_new = dataset[:ensemble_number_hindcast,:,:,:,:]\n",
    "    return dataset_new"
   ]
  },
  {
   "cell_type": "code",
   "execution_count": null,
   "id": "0fd3a402",
   "metadata": {},
   "outputs": [],
   "source": [
    "#Same longitude and latitude as ERA5\n",
    "def common_lon_lat_values(dataset):\n",
    "    # Longitude = [-180, 179]\n",
    "    dataset = dataset.assign_coords(lon=((dataset.lon + 180 - 0.5) % 360 - 180))\n",
    "    # Ascending order\n",
    "    dataset = dataset.sortby('lon')\n",
    "    # Latitude = [90, -89]\n",
    "    dataset = dataset.assign_coords(lat=dataset.lat + 0.5)\n",
    "    return dataset"
   ]
  },
  {
   "cell_type": "code",
   "execution_count": null,
   "id": "678344ec",
   "metadata": {},
   "outputs": [],
   "source": [
    "#Function to obtain the specific month value of a variable for each year and to compute the climatology (1994-2016) and the anomaly for the specific month\n",
    "def compute_obs_anomaly_monthly(string_variable,string_dic_yearly,string_dic_climatology,string_dic_anomaly,dataset,dictionary,name_months,i):\n",
    "    dictionary[f'{name_months[i]} ({string_variable})'][string_dic_yearly] = dataset.sel(time=dataset['time.month'] == (i+1))\n",
    "    #Compute the climatology of the ensemble\n",
    "    dictionary[f'{name_months[i]} ({string_variable})'][string_dic_climatology] = dictionary[f'{name_months[i]} ({string_variable})'][string_dic_yearly].mean(dim=('time'))\n",
    "    #Compute the anomaly of the single member and of each year\n",
    "    dictionary[f'{name_months[i]} ({string_variable})'][string_dic_anomaly] = dictionary[f'{name_months[i]} ({string_variable})'][string_dic_yearly] - dictionary[f'{name_months[i]} ({string_variable})'][string_dic_climatology]\n",
    "\n",
    "    dictionary[f'{name_months[i]} ({string_variable})'][string_dic_anomaly] = dictionary[f'{name_months[i]} ({string_variable})'][string_dic_anomaly].assign_coords(time=dictionary[f'{name_months[i]} ({string_variable})'][string_dic_anomaly].time.dt.year)\n",
    "    return dictionary[f'{name_months[i]} ({string_variable})'][string_dic_anomaly], dictionary[f'{name_months[i]} ({string_variable})'][string_dic_climatology], dictionary[f'{name_months[i]} ({string_variable})'][string_dic_yearly]\n"
   ]
  },
  {
   "cell_type": "code",
   "execution_count": null,
   "id": "d0bd8528",
   "metadata": {},
   "outputs": [],
   "source": [
    "#Function to compute the yearly means of a dataset for a specific season\n",
    "def compute_yearly_seasonal_mean(dataset,year_start,year_end,i):\n",
    "    # Map season index to months\n",
    "    season_months = {\n",
    "        0: [1, 2],       # JF\n",
    "        1: [3, 4, 5],    # MAM\n",
    "        2: [6, 7, 8, 9], # JJAS\n",
    "        3: [10, 11, 12]  # OND\n",
    "    }\n",
    "    \n",
    "    dataset = dataset.sel(time=slice(year_start, year_end)) #Select the analysis' years    \n",
    "    season_data = dataset.sel(time=dataset[\"time.month\"].isin(season_months[i])) #Select the months for the specific season \n",
    "    dataset_mean_yearly = season_data.groupby(\"time.year\").mean(dim=\"time\") #ensemble mean for each year\n",
    "    return dataset_mean_yearly\n",
    "\n",
    "#Function to compute the anomaly, climatology and yearly sst for each season\n",
    "def compute_obs_anomaly(string_variable,string_dic_yearly,string_dic_climatology,string_dic_anomaly,dataset,dataset_sa,dictionary,season,i):\n",
    "    #Divide the dataset into the four seasons\n",
    "    if season == ['JF','MAM','JJAS','OND']: #JF, MAM, JJAS, OND\n",
    "        dictionary[f'{season[i]} ({string_variable})'][string_dic_yearly] = compute_yearly_seasonal_mean(dataset,\"1994\",\"2016\",i)\n",
    "        dictionary[f'{season[i]} ({string_variable})'][string_dic_yearly] = dictionary[f'{season[i]} ({string_variable})'][string_dic_yearly].rename({\"year\": \"time\"})\n",
    "    \n",
    "    #Compute the climatology of the ensemble\n",
    "    dictionary[f'{season[i]} ({string_variable})'][string_dic_climatology] = dictionary[f'{season[i]} ({string_variable})'][string_dic_yearly].mean(dim=('time'))\n",
    "    #Compute the anomaly of the single member and of each year\n",
    "    dictionary[f'{season[i]} ({string_variable})'][string_dic_anomaly] = dictionary[f'{season[i]} ({string_variable})'][string_dic_yearly] - dictionary[f'{season[i]} ({string_variable})'][string_dic_climatology]\n",
    "\n",
    "    return dictionary[f'{season[i]} ({string_variable})'][string_dic_anomaly], dictionary[f'{season[i]} ({string_variable})'][string_dic_climatology], dictionary[f'{season[i]} ({string_variable})'][string_dic_yearly]\n"
   ]
  },
  {
   "cell_type": "code",
   "execution_count": null,
   "id": "e258d66d",
   "metadata": {},
   "outputs": [],
   "source": [
    "#Function to compute the season of a hindcasts data from C3S\n",
    "def compute_season(dataset,year_start_string,year_end_string,month_start,forecastMonth_list):\n",
    "    #Select the starting and ending years\n",
    "    dataset = dataset.sel(time=slice(year_start_string,year_end_string))\n",
    "    #Select the month when the run is initialized, select the season\n",
    "    dataset_season = dataset.where(dataset[\"time.month\"] == month_start, drop=True)\n",
    "    #Select the months from when the run is initialized (forecast months)\n",
    "    dataset_season = dataset_season.sel(forecastMonth=forecastMonth_list)\n",
    "    #if the month_start is december the years of dataset_season will be shifted one year forward, otherwise there will be a confusion (Because with december as the start month, the season will be the JF of the following year)\n",
    "    if month_start in [11,12]:\n",
    "        new_times = [pd.Timestamp(t).replace(year=pd.Timestamp(t).year + 1, month=1, day=1) for t in dataset_season[\"time\"].values]\n",
    "        dataset_season = dataset_season.assign_coords({\"time\": (\"time\", new_times)})\n",
    "    elif year_start_string == '1993' and month_start in [9, 10]:\n",
    "        new_times = [pd.Timestamp(t).replace(year=pd.Timestamp(t).year + 1, month=1, day=1) for t in dataset_season[\"time\"].values]\n",
    "        dataset_season = dataset_season.assign_coords({\"time\": (\"time\", new_times)})\n",
    "         \n",
    "    #Group the single years and mean over forecastMonth to obtain the season\n",
    "    dataset_season = dataset_season.groupby(\"time\").mean(\"forecastMonth\")\n",
    "\n",
    "    return dataset_season\n",
    "\n",
    "#Function to compute the seasonal value for each year of a variable at 3-months lead time, for OND season\n",
    "def lead_time_3(dictionary_list,seasons,string_variable,dataset,month_start):\n",
    "    dictionary_list[f'{seasons}, lead time 3 ({string_variable})'] = compute_season(dataset,'1994','2016',month_start,[4,5,6])   \n",
    "    #Re-assign time coordinates\n",
    "    dictionary_list[f'{seasons}, lead time 3 ({string_variable})'] = dictionary_list[f'{seasons}, lead time 3 ({string_variable})'].assign_coords(time=dictionary_list[f'{seasons}, lead time 3 ({string_variable})'].time.dt.year)\n",
    "\n",
    "    return dictionary_list[f'{seasons}, lead time 3 ({string_variable})']"
   ]
  },
  {
   "cell_type": "code",
   "execution_count": null,
   "id": "65dbd165",
   "metadata": {},
   "outputs": [],
   "source": [
    "#Function to select the indian ocean area spatial domain\n",
    "def di_indian_ocean_area(dataset):\n",
    "    di = dataset.sel(lon=slice(50,110),lat=slice(10,-10),time=slice('1993','2016'))\n",
    "    return di"
   ]
  },
  {
   "cell_type": "code",
   "execution_count": null,
   "id": "691a0eff",
   "metadata": {},
   "outputs": [],
   "source": [
    "#Function to select the spatial domain where to compute the Dipole Index\n",
    "def di_west_east(dataset):\n",
    "    di_west = dataset.sel(lon=slice(50,70),lat=slice(10,-10),time=slice('1993','2016')).mean(dim=('lon','lat'))\n",
    "    di_east = dataset.sel(lon=slice(90,110),lat=slice(0,-10),time=slice('1993','2016')).mean(dim=('lon','lat'))\n",
    "    return di_west, di_east"
   ]
  },
  {
   "cell_type": "markdown",
   "id": "5ad3a17a",
   "metadata": {},
   "source": [
    "Variable definition"
   ]
  },
  {
   "cell_type": "code",
   "execution_count": null,
   "id": "ac8ae2c8",
   "metadata": {},
   "outputs": [],
   "source": [
    "name_months = ['JUL','AUG','SEP','OCT'] #Run's initialization's months. The chosen month for this analysis is JUL\n",
    "seasons = ['JF','MAM','JJAS','OND'] #Name of the possible seasons. The chosen season for this analysis is OND\n",
    "number_lead_time = 4 #0,1,2,3 possible lead time"
   ]
  },
  {
   "cell_type": "markdown",
   "id": "331a8b7e",
   "metadata": {},
   "source": [
    "Upload ERA5 dataset, conservatively remapped"
   ]
  },
  {
   "cell_type": "code",
   "execution_count": null,
   "id": "40cfdffc",
   "metadata": {},
   "outputs": [],
   "source": [
    "era5_sst_remapcon = xr.open_dataset(r\"/mnt/c/Users/project/era5_sst/era5_sst_remapcon.nc\") #Upload ERA5 dataset\n",
    "era5_sst_remapcon = rename_lat_lon_time(era5_sst_remapcon['sst']) #Rename the 'lon', 'lat', 'time' coordinates\n",
    "era5_sst_remapcon = era5_sst_remapcon.sel(time=slice('1994','2016')) #Select the years\n",
    "era5_sst_remapcon_indian_ocean = di_indian_ocean_area(era5_sst_remapcon) #Select the indian ocean area spatial domain"
   ]
  },
  {
   "cell_type": "markdown",
   "id": "aa057fee",
   "metadata": {},
   "source": [
    "Upload HadISST dataset"
   ]
  },
  {
   "cell_type": "code",
   "execution_count": null,
   "id": "e4e8db4f",
   "metadata": {},
   "outputs": [],
   "source": [
    "hadisst_remapcon = xr.open_dataset(r\"/mnt/c/Users/project/HadISST_sst.nc\") ##Upload HadISST dataset\n",
    "hadisst_remapcon = rename_lat_lon_time(hadisst_remapcon['sst']) #Rename the 'lon', 'lat', 'time' coordinates\n",
    "hadisst_remapcon = hadisst_remapcon.sel(time=slice('1994','2016')) #Select the years\n",
    "hadisst_remapcon = hadisst_remapcon.assign_coords(lat = hadisst_remapcon.lat + 0.5,lon = hadisst_remapcon.lon - 0.5) #New values for longitude and latitude\n",
    "hadisst_remapcon = hadisst_remapcon.where(hadisst_remapcon >= -600, np.nan)\n",
    "hadisst_remapcon_indian_ocean = di_indian_ocean_area(hadisst_remapcon) #Select the indian ocean area spatial domain"
   ]
  },
  {
   "cell_type": "code",
   "execution_count": null,
   "id": "568e0d0b",
   "metadata": {},
   "outputs": [
    {
     "data": {
      "text/plain": [
       "<matplotlib.collections.QuadMesh at 0x7fef296dade0>"
      ]
     },
     "metadata": {},
     "output_type": "display_data"
    },
    {
     "data": {
      "image/png": "[encoded data removed]",
      "text/plain": [
       "<Figure size 640x480 with 2 Axes>"
      ]
     },
     "metadata": {},
     "output_type": "display_data"
    }
   ],
   "source": [
    "hadisst_remapcon.isel(time=0).plot()"
   ]
  },
  {
   "cell_type": "markdown",
   "id": "6b087068",
   "metadata": {},
   "source": [
    "Upload ECMWF dataset"
   ]
  },
  {
   "cell_type": "code",
   "execution_count": null,
   "id": "a9d01c38",
   "metadata": {},
   "outputs": [],
   "source": [
    "ecmwf_sst = xr.open_dataset(r\"/mnt/c/Users/project/ecmwf_sst.nc\") #Upload ECMWF dataset\n",
    "ecmwf_sst = rename_lat_lon_time(ecmwf_sst['sst']) #Rename the 'lon', 'lat', 'time' coordinates\n",
    "ecmwf_sst = hindcast_ensemble(ecmwf_sst,25) #Select the hindcast's members\n",
    "ecmwf_sst = common_lon_lat_values(ecmwf_sst) #Re-assign longitude/latitude coordinates in order to have the same as ERA5"
   ]
  },
  {
   "cell_type": "markdown",
   "id": "84adf4cf",
   "metadata": {},
   "source": [
    "Compute climatology and anomalies for ERA5 and HadISST datasets"
   ]
  },
  {
   "cell_type": "code",
   "execution_count": null,
   "id": "77538871",
   "metadata": {},
   "outputs": [],
   "source": [
    "#ERA5 and HadISST dictionary\n",
    "era5_dic = {}\n",
    "hadisst_dic = {}"
   ]
  },
  {
   "cell_type": "code",
   "execution_count": null,
   "id": "15e95725",
   "metadata": {},
   "outputs": [],
   "source": [
    "#Compute the anomaly adn the climatology over the indian ocean area\n",
    "for i in range(len(name_months)): \n",
    "    era5_dic[f'{name_months[i]} (di west-est)'] = {} # (di west-east) stands as a reference of the Dipole Index computation\n",
    "    era5_dic[f'{name_months[i]} (di west-est)']['anomaly indian ocean area'], era5_dic[f'{name_months[i]} (di west-est)']['climatology indian ocean area'], era5_dic[f'{name_months[i]} (di west-est)']['yearly sst indian ocean area'] = compute_obs_anomaly_monthly('di west-est','yearly sst indian ocean area','climatology indian ocean area','anomaly indian ocean area',era5_sst_remapcon_indian_ocean,era5_dic,name_months,i)\n",
    " \n",
    "    hadisst_dic[f'{name_months[i]} (di west-est)'] = {}\n",
    "    hadisst_dic[f'{name_months[i]} (di west-est)']['anomaly indian ocean area'], hadisst_dic[f'{name_months[i]} (di west-est)']['climatology indian ocean area'], hadisst_dic[f'{name_months[i]} (di west-est)']['yearly sst indian ocean area'] = compute_obs_anomaly_monthly('di west-est','yearly sst indian ocean area','climatology indian ocean area','anomaly indian ocean area',hadisst_remapcon_indian_ocean,hadisst_dic,name_months,i)"
   ]
  },
  {
   "cell_type": "markdown",
   "id": "af7f254c",
   "metadata": {},
   "source": [
    "Compute the OND Dipole Index for ERA5"
   ]
  },
  {
   "cell_type": "code",
   "execution_count": null,
   "id": "981adf1d",
   "metadata": {},
   "outputs": [],
   "source": [
    "era5_sst_di = di_west_east(era5_sst_remapcon) #2 elements: west,east. #Select the spatial domain to compute the Dipole index\n",
    "era5_dic['OND (di west-east)']['anomaly'], era5_dic['OND (di west-east)']['climatology'], era5_dic['OND (di west-east)']['yearly precipitation'] = compute_obs_anomaly('di west-east','yearly sst','climatology','anomaly',era5_sst_di[0]-era5_sst_di[1],era5_sst_di[0]-era5_sst_di[1],era5_dic,seasons,3) #3 is the index for OND month\n",
    "#Compute the Dipole Index\n",
    "era5_dic['OND (di west-east)']['dipole index'] = era5_dic['OND (di west-east)']['anomaly'] / era5_dic['OND (di west-east)']['yearly sst'].std(dim='time')"
   ]
  },
  {
   "cell_type": "markdown",
   "id": "93187524",
   "metadata": {},
   "source": [
    "Compute the OND at 3 months lead time Dipole Index for ECMWF"
   ]
  },
  {
   "cell_type": "code",
   "execution_count": null,
   "id": "4168bcba",
   "metadata": {},
   "outputs": [],
   "source": [
    "ecmwf_sst_di = di_west_east(ecmwf_sst) #2 elements: west,east. Select the spatial domain to compute the Dipole index"
   ]
  },
  {
   "cell_type": "code",
   "execution_count": null,
   "id": "bca4a366",
   "metadata": {},
   "outputs": [],
   "source": [
    "ecmwf_dic = {} #ECMWF dictionary\n",
    "ecmwf_dic['OND, lead time 3 (di west-east)'] = {}\n",
    "ecmwf_dic['OND, lead time 3 (di west-east)'] = lead_time_3(ecmwf_dic,seasons[3],'di west-east',ecmwf_sst_di[0]-ecmwf_sst_di[1],7)"
   ]
  },
  {
   "cell_type": "code",
   "execution_count": null,
   "id": "168a6f5d",
   "metadata": {},
   "outputs": [],
   "source": [
    "#Compute the climatology for the multi-model mean\n",
    "ecmwf_dic['OND, lead time 3 (di west-east)']['climatology ensemble'] = ecmwf_dic['OND, lead time 3 (di west-east)'].mean(dim=('number','time'))\n",
    "#Compute the anomaly of the single member and of each year\n",
    "ecmwf_dic['OND, lead time 3 (di west-east)']['anomaly'] = ecmwf_dic['OND, lead time 3 (di west-east)'] - ecmwf_dic['OND, lead time 3 (di west-east)']['climatology ensemble']\n",
    "#Compute the Dipole index\n",
    "ecmwf_dic['OND, lead time 3 (di west-east)']['dipole index'] = ecmwf_dic['OND, lead time 3 (di west-east)']['anomaly'] / ecmwf_dic['OND, lead time 3 (di west-east)'].std(dim=('time','number'))"
   ]
  },
  {
   "cell_type": "markdown",
   "id": "b5758f86",
   "metadata": {},
   "source": [
    "Implementation of the CNN"
   ]
  },
  {
   "cell_type": "code",
   "execution_count": null,
   "id": "749cec54",
   "metadata": {},
   "outputs": [],
   "source": [
    "# ---------------------------\n",
    "# 1. Define parameter grid\n",
    "# ---------------------------\n",
    "\n",
    "grid_search_params = {\n",
    "    'filter_size': [(3,3), (5,5)],\n",
    "    'initial_filters': [8, 16, 32],\n",
    "    'initial_dropout': [0, 0.1, 0.2, 0.3],\n",
    "    'dense_units': [50, 100, 150],\n",
    "    'batch_size': [8, 16, 32, 64],\n",
    "    'learning_rate': [0.1, 0.01, 0.001]\n",
    "}\n",
    "\n",
    "param_grid = list(ParameterGrid(grid_search_params))"
   ]
  },
  {
   "cell_type": "code",
   "execution_count": null,
   "id": "6d4e9788",
   "metadata": {},
   "outputs": [],
   "source": [
    "# ---------------------------\n",
    "# 3. Training and validation data\n",
    "# ---------------------------\n",
    "\n",
    "#Training\n",
    "#Obs: the NaN values, which stands for the land domain, are replaced with null values\n",
    "#Dims: (time,lat,lon,channels where channels stands for the number of input, that is 1\n",
    "X_train = era5_dic['JUL (di west-est)']['anomaly indian ocean area'].fillna(0).expand_dims(dim='channels').transpose('time', 'lat', 'lon', 'channels') #Anomaly of the indian ocean spatial domain for the July month from ERA5\n",
    "#Dims: (time,)\n",
    "y_train = ecmwf_dic['OND, lead time 3 (di west-east)']['dipole index'].mean(dim='number') #Dipole Index for the OND season at lead time of 3 months from ECMWF, averaged over all members\n",
    "\n",
    "#Validation\n",
    "#Dims: (time,lat,lon,channels where channels stands for the number of input, that is 1\n",
    "X_val = hadisst_dic['JUL (di west-est)']['anomaly indian ocean area'].fillna(0).expand_dims(dim='channels').transpose('time', 'lat', 'lon', 'channels')  # (23, 21, 61, 1)\n",
    "#Dims: (time,)\n",
    "y_val = era5_dic['OND (di west-east)']['dipole index'] #Dipole Index for the OND season"
   ]
  },
  {
   "cell_type": "code",
   "execution_count": null,
   "id": "67990f8c",
   "metadata": {},
   "outputs": [],
   "source": [
    "# ---------------------------\n",
    "# 2. Lists for top models\n",
    "# ---------------------------\n",
    "\n",
    "top_models = []\n",
    "top_scores = []"
   ]
  },
  {
   "cell_type": "code",
   "execution_count": null,
   "id": "05994a75",
   "metadata": {},
   "outputs": [],
   "source": [
    "# ---------------------------\n",
    "# 4. Loop over all parameter combinations\n",
    "# ---------------------------\n",
    "\n",
    "for params in param_grid:\n",
    "    print(f\"Training with params: {params}\")\n",
    "\n",
    "    # Build model\n",
    "    model = models.Sequential()\n",
    "\n",
    "    filters = params['initial_filters']\n",
    "    dropout = params['initial_dropout']\n",
    "\n",
    "    # First Conv Block\n",
    "    model.add(layers.Conv2D(filters=filters, kernel_size=params['filter_size'], activation='elu', input_shape=X_train.shape[1:], padding='same'))\n",
    "    model.add(layers.BatchNormalization())\n",
    "    model.add(layers.MaxPooling2D())\n",
    "    model.add(layers.Dropout(dropout))\n",
    "\n",
    "    # Second Conv Block\n",
    "    filters *= 2\n",
    "    dropout += 0.1\n",
    "    model.add(layers.Conv2D(filters=filters, kernel_size=params['filter_size'], activation='elu', padding='same'))\n",
    "    model.add(layers.BatchNormalization())\n",
    "    model.add(layers.MaxPooling2D())\n",
    "    model.add(layers.Dropout(dropout))\n",
    "\n",
    "    # Third Conv Block\n",
    "    filters *= 2\n",
    "    dropout += 0.1\n",
    "    model.add(layers.Conv2D(filters=filters, kernel_size=params['filter_size'], activation='elu', padding='same'))\n",
    "    model.add(layers.BatchNormalization())\n",
    "    model.add(layers.MaxPooling2D())\n",
    "    model.add(layers.Dropout(dropout))\n",
    "\n",
    "    model.add(layers.Flatten())\n",
    "    model.add(layers.Dense(params['dense_units'], activation='elu'))\n",
    "    model.add(layers.Dense(1))  # Output layer\n",
    "\n",
    "    # Optimizer with initial learning rate\n",
    "    optimizer = optimizers.Adam(learning_rate=params['learning_rate'])\n",
    "\n",
    "    model.compile(optimizer=optimizer, loss='mse', metrics=['mae'])\n",
    "\n",
    "    # Learning rate scheduler\n",
    "    lr_scheduler = callbacks.ReduceLROnPlateau(factor=0.5, patience=10, verbose=1)\n",
    "\n",
    "    # Early stopping for faster tuning\n",
    "    early_stop = callbacks.EarlyStopping(patience=10, restore_best_weights=True)\n",
    "\n",
    "    # Train model\n",
    "    history = model.fit(\n",
    "        X_train, y_train,\n",
    "        validation_data=(X_val, y_val),\n",
    "        epochs=100,\n",
    "        batch_size=params['batch_size'],\n",
    "        callbacks=[lr_scheduler, early_stop],\n",
    "        verbose=0\n",
    "    )\n",
    "\n",
    "    # Evaluate on validation set\n",
    "    val_loss, val_mae = model.evaluate(X_val, y_val, verbose=0)\n",
    "\n",
    "    # Save top 10 models\n",
    "    if len(top_models) < 10:\n",
    "        top_models.append(model)\n",
    "        top_scores.append(val_loss)\n",
    "    else:\n",
    "        max_loss_idx = np.argmax(top_scores)\n",
    "        if val_loss < top_scores[max_loss_idx]:\n",
    "            top_models[max_loss_idx] = model\n",
    "            top_scores[max_loss_idx] = val_loss"
   ]
  },
  {
   "cell_type": "code",
   "execution_count": null,
   "id": "946f52a9",
   "metadata": {},
   "outputs": [],
   "source": [
    "# ---------------------------\n",
    "# 5. Ensemble average of top 10 models\n",
    "# ---------------------------\n",
    "\n",
    "# Make predictions with each model and compute average\n",
    "predictions = [m.predict(X_val) for m in top_models]\n",
    "ensemble_prediction = np.mean(predictions, axis=0)\n"
   ]
  },
  {
   "cell_type": "code",
   "execution_count": null,
   "id": "5a0463fa",
   "metadata": {},
   "outputs": [],
   "source": [
    "plt.figure(figsize=(10,5))\n",
    "plt.plot(y_val.time, y_val, color='black',label='Observed ERA5', marker='o')\n",
    "plt.plot(y_val.time, ensemble_prediction, label='Predicted CNN at lead time 3 months', marker='x')\n",
    "plt.xlabel('years')\n",
    "plt.ylabel('Dipole Index')\n",
    "plt.title(f'True vs Ensemble Prediction with ACC = {np.round(xs.pearson_r(y_val,ensemble_prediction,dim='time'),3).values}') #Compute the correlation between observed ERA5 and CNN's prediction\n",
    "plt.legend()\n",
    "plt.show()"
   ]
  }
 ],
 "metadata": {
  "language_info": {
   "name": "python"
  }
 },
 "nbformat": 4,
 "nbformat_minor": 5
}
